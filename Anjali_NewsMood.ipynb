{
 "cells": [
  {
   "cell_type": "markdown",
   "metadata": {},
   "source": [
    "##Anjali Obervations  - \n",
    "\n",
    "#1 .Sentiments expressed in Tweets sent out by the BBS and CBS are stingly positive for a given date range .\n",
    "#2 .Sentiments expressed in Tweets sent out by the Fox and NYT are negative range .\n",
    "#3 .This charts and sentiment alaysis and chart may change for another date as all the tweets are live and very dynamic in nature and can not be predicted . "
   ]
  },
  {
   "cell_type": "code",
   "execution_count": 16,
   "metadata": {
    "collapsed": true
   },
   "outputs": [],
   "source": [
    "# Dependencies\n",
    "import tweepy\n",
    "import time\n",
    "import json\n",
    "import random\n",
    "import requests as req\n",
    "import datetime\n",
    "import pandas as pd\n",
    "from config import consumer_key, consumer_secret, access_token, access_token_secret, weather_api_key\n",
    "\n",
    "# Import and Initialize Sentiment Analyzer\n",
    "from vaderSentiment.vaderSentiment import SentimentIntensityAnalyzer\n",
    "analyzer = SentimentIntensityAnalyzer()\n",
    "\n",
    "import  matplotlib.pyplot as plt\n",
    "import datetime \n",
    "import numpy as np"
   ]
  },
  {
   "cell_type": "code",
   "execution_count": 2,
   "metadata": {
    "collapsed": true
   },
   "outputs": [],
   "source": [
    "# Set Twitter API Keys\n",
    "# Setup Tweepy API Authentication\n",
    "auth = tweepy.OAuthHandler(consumer_key, consumer_secret)\n",
    "auth.set_access_token(access_token, access_token_secret)\n",
    "api = tweepy.API(auth, parser=tweepy.parsers.JSONParser())\n",
    "\n"
   ]
  },
  {
   "cell_type": "code",
   "execution_count": 4,
   "metadata": {},
   "outputs": [
    {
     "name": "stdout",
     "output_type": "stream",
     "text": [
      "==========Done iteration : 1============\n",
      "==========Done iteration : 2============\n",
      "==========Done iteration : 3============\n",
      "==========Done iteration : 4============\n",
      "==========Done iteration : 5============\n",
      "====================Done all iterations==============\n"
     ]
    }
   ],
   "source": [
    "# Target Search Term\n",
    "#BBC, CBS, CNN, Fox, and New York times\n",
    "target_terms =  [\"@BBC\", \"@CBS\", \"@CNN\", \"@Foxnews\", \"@NYTimes\"]\n",
    "\n",
    "# List to hold results\n",
    "sentiments = []\n",
    "counter = 1\n",
    "loopcount =1\n",
    "# Loop through all target users\n",
    "for target in target_terms:\n",
    "\n",
    "    # Variables for holding sentiments\n",
    "    compound_list = []\n",
    "    positive_list = []\n",
    "    negative_list = []\n",
    "    neutral_list = []\n",
    "\n",
    "    # Run search around each tweet\n",
    "    public_tweets = api.user_timeline(target,count=100, result_type=\"recent\")\n",
    "\n",
    "    # Loop through all tweets\n",
    "    counter =1\n",
    "    for tweet in public_tweets:\n",
    "        # Run Vader Analysis on each tweet\n",
    "        results = analyzer.polarity_scores(tweet[\"text\"])\n",
    "        compound = results[\"compound\"]\n",
    "        pos = results[\"pos\"]\n",
    "        neu = results[\"neu\"]\n",
    "        neg = results[\"neg\"]\n",
    "        \n",
    "        sentiments.append({\"News Channel\": target,\n",
    "                           \"Tweet Text\" :tweet[\"text\"],\n",
    "                           \"Date\": tweet[\"created_at\"], \n",
    "                           \"Compound\": compound,\n",
    "                           \"Positive\": pos,\n",
    "                           \"Negative\": neu,\n",
    "                           \"Neutral\": neg,\n",
    "                           \"Tweets Ago\": counter}) \n",
    "        counter +=1\n",
    "    print(\"==========Done iteration : {}============\".format(loopcount))\n",
    "    loopcount += 1 \n",
    "\n",
    "print(\"====================Done all iterations==============\")"
   ]
  },
  {
   "cell_type": "code",
   "execution_count": 48,
   "metadata": {
    "collapsed": true
   },
   "outputs": [],
   "source": [
    "news_df = pd.DataFrame(sentiments)\n",
    "news_df.to_csv(\"news.csv\")\n",
    "\n",
    "\n"
   ]
  },
  {
   "cell_type": "code",
   "execution_count": 38,
   "metadata": {},
   "outputs": [
    {
     "data": {
      "text/html": [
       "<div>\n",
       "<style scoped>\n",
       "    .dataframe tbody tr th:only-of-type {\n",
       "        vertical-align: middle;\n",
       "    }\n",
       "\n",
       "    .dataframe tbody tr th {\n",
       "        vertical-align: top;\n",
       "    }\n",
       "\n",
       "    .dataframe thead th {\n",
       "        text-align: right;\n",
       "    }\n",
       "</style>\n",
       "<table border=\"1\" class=\"dataframe\">\n",
       "  <thead>\n",
       "    <tr style=\"text-align: right;\">\n",
       "      <th></th>\n",
       "      <th>Compound</th>\n",
       "      <th>Date</th>\n",
       "      <th>Negative</th>\n",
       "      <th>Neutral</th>\n",
       "      <th>News Channel</th>\n",
       "      <th>Positive</th>\n",
       "      <th>Tweet Text</th>\n",
       "      <th>Tweets Ago</th>\n",
       "    </tr>\n",
       "  </thead>\n",
       "  <tbody>\n",
       "    <tr>\n",
       "      <th>0</th>\n",
       "      <td>0.4215</td>\n",
       "      <td>Sat Sep 29 20:32:03 +0000 2018</td>\n",
       "      <td>0.743</td>\n",
       "      <td>0.000</td>\n",
       "      <td>@BBC</td>\n",
       "      <td>0.257</td>\n",
       "      <td>Chile has launched a huge hiking route through...</td>\n",
       "      <td>1</td>\n",
       "    </tr>\n",
       "    <tr>\n",
       "      <th>1</th>\n",
       "      <td>0.4215</td>\n",
       "      <td>Sat Sep 29 17:02:12 +0000 2018</td>\n",
       "      <td>0.865</td>\n",
       "      <td>0.000</td>\n",
       "      <td>@BBC</td>\n",
       "      <td>0.135</td>\n",
       "      <td>🐣😍 Conservationists have been monitoring the p...</td>\n",
       "      <td>2</td>\n",
       "    </tr>\n",
       "    <tr>\n",
       "      <th>2</th>\n",
       "      <td>-0.7003</td>\n",
       "      <td>Sat Sep 29 16:01:07 +0000 2018</td>\n",
       "      <td>0.707</td>\n",
       "      <td>0.293</td>\n",
       "      <td>@BBC</td>\n",
       "      <td>0.000</td>\n",
       "      <td>'My children bought back the car I sold to pay...</td>\n",
       "      <td>3</td>\n",
       "    </tr>\n",
       "    <tr>\n",
       "      <th>3</th>\n",
       "      <td>0.5499</td>\n",
       "      <td>Sat Sep 29 15:54:38 +0000 2018</td>\n",
       "      <td>0.871</td>\n",
       "      <td>0.000</td>\n",
       "      <td>@BBC</td>\n",
       "      <td>0.129</td>\n",
       "      <td>RT @BBCEngland: Benny the beluga whale is spen...</td>\n",
       "      <td>4</td>\n",
       "    </tr>\n",
       "    <tr>\n",
       "      <th>4</th>\n",
       "      <td>0.7088</td>\n",
       "      <td>Sat Sep 29 15:02:04 +0000 2018</td>\n",
       "      <td>0.671</td>\n",
       "      <td>0.000</td>\n",
       "      <td>@BBC</td>\n",
       "      <td>0.329</td>\n",
       "      <td>Always start by playing paper! 👊✋✌️\\n\\nThis is...</td>\n",
       "      <td>5</td>\n",
       "    </tr>\n",
       "  </tbody>\n",
       "</table>\n",
       "</div>"
      ],
      "text/plain": [
       "   Compound                            Date  Negative  Neutral News Channel  \\\n",
       "0    0.4215  Sat Sep 29 20:32:03 +0000 2018     0.743    0.000         @BBC   \n",
       "1    0.4215  Sat Sep 29 17:02:12 +0000 2018     0.865    0.000         @BBC   \n",
       "2   -0.7003  Sat Sep 29 16:01:07 +0000 2018     0.707    0.293         @BBC   \n",
       "3    0.5499  Sat Sep 29 15:54:38 +0000 2018     0.871    0.000         @BBC   \n",
       "4    0.7088  Sat Sep 29 15:02:04 +0000 2018     0.671    0.000         @BBC   \n",
       "\n",
       "   Positive                                         Tweet Text  Tweets Ago  \n",
       "0     0.257  Chile has launched a huge hiking route through...           1  \n",
       "1     0.135  🐣😍 Conservationists have been monitoring the p...           2  \n",
       "2     0.000  'My children bought back the car I sold to pay...           3  \n",
       "3     0.129  RT @BBCEngland: Benny the beluga whale is spen...           4  \n",
       "4     0.329  Always start by playing paper! 👊✋✌️\\n\\nThis is...           5  "
      ]
     },
     "execution_count": 38,
     "metadata": {},
     "output_type": "execute_result"
    }
   ],
   "source": [
    "news_df.head(5)"
   ]
  },
  {
   "cell_type": "code",
   "execution_count": 49,
   "metadata": {
    "collapsed": true
   },
   "outputs": [],
   "source": [
    "#[\"@BBC\", \"@CBS\", \"@CNN\", \"@Foxnews\", \"@NYTimes\"]\n",
    "#\n",
    "bcc_df = news_df[news_df[\"News Channel\"] == \"@BBC\"]\n",
    "cbs_df = news_df[news_df[\"News Channel\"] == \"@CBS\"]\n",
    "cnn_df = news_df[news_df[\"News Channel\"] == \"@CNN\"]\n",
    "fox_df = news_df[news_df[\"News Channel\"] == \"@Foxnews\"]\n",
    "ny_df = news_df[news_df[\"News Channel\"] == \"@NYTimes\"]\n"
   ]
  },
  {
   "cell_type": "code",
   "execution_count": 50,
   "metadata": {},
   "outputs": [
    {
     "data": {
      "image/png": "[encoded data removed]",
      "text/plain": [
       "<Figure size 432x288 with 1 Axes>"
      ]
     },
     "metadata": {},
     "output_type": "display_data"
    }
   ],
   "source": [
    "# Create plot\n",
    "x_vals = news_df[\"Tweets Ago\"]\n",
    "y_vals = news_df[\"Compound\"]\n",
    "s_value = news_df[\"News Channel\"]\n",
    "\n",
    "\n",
    "plt.scatter(bcc_df[\"Tweets Ago\"],bcc_df[\"Compound\"],c=\"aqua\",alpha=0.8,edgecolor = \"black\", marker=\"o\", label='BCC')\n",
    "plt.scatter(cbs_df[\"Tweets Ago\"],cbs_df[\"Compound\"],c=\"green\",alpha=0.8,edgecolor = \"black\", marker=\"o\", label='CBS')\n",
    "plt.scatter(cnn_df[\"Tweets Ago\"],cnn_df[\"Compound\"],c=\"red\",alpha=0.8,edgecolor = \"black\", marker=\"o\", label='CNN')\n",
    "plt.scatter(fox_df[\"Tweets Ago\"],fox_df[\"Compound\"],c=\"blue\",alpha=0.8,edgecolor = \"black\", marker=\"o\", label='FOX')\n",
    "plt.scatter(ny_df[\"Tweets Ago\"],ny_df[\"Compound\"],c=\"yellow\",alpha=0.8,edgecolor = \"black\", marker=\"o\", label='New York Times')\n",
    "\n",
    "\n",
    "\n",
    "\n",
    "# # Incorporate the other graph properties\n",
    "now = datetime.datetime.now()\n",
    "now = now.strftime(\"%Y-%m-%d\")\n",
    "plt.title(f\"Sentiment Analysis of Media Tweet({now})\")\n",
    "plt.xlim([105,0]) \n",
    "plt.ylim([-1,1]) #Bonus\n",
    "plt.ylabel(\"Tweet Polarity\")\n",
    "plt.xlabel(\"Tweets Ago\")\n",
    "plt.grid()\n",
    "plt.legend(title = \"Media Sources\", frameon = False, edgecolor = 'black', bbox_to_anchor=(1, 0.85),markerscale=2.0)\n",
    "plt.savefig(\"./polarityImage.png\")\n",
    "plt.show()\n"
   ]
  },
  {
   "cell_type": "code",
   "execution_count": 41,
   "metadata": {},
   "outputs": [
    {
     "data": {
      "text/html": [
       "<div>\n",
       "<style scoped>\n",
       "    .dataframe tbody tr th:only-of-type {\n",
       "        vertical-align: middle;\n",
       "    }\n",
       "\n",
       "    .dataframe tbody tr th {\n",
       "        vertical-align: top;\n",
       "    }\n",
       "\n",
       "    .dataframe thead th {\n",
       "        text-align: right;\n",
       "    }\n",
       "</style>\n",
       "<table border=\"1\" class=\"dataframe\">\n",
       "  <thead>\n",
       "    <tr style=\"text-align: right;\">\n",
       "      <th></th>\n",
       "      <th>Compound</th>\n",
       "    </tr>\n",
       "    <tr>\n",
       "      <th>News Channel</th>\n",
       "      <th></th>\n",
       "    </tr>\n",
       "  </thead>\n",
       "  <tbody>\n",
       "    <tr>\n",
       "      <th>@BBC</th>\n",
       "      <td>0.132080</td>\n",
       "    </tr>\n",
       "    <tr>\n",
       "      <th>@CBS</th>\n",
       "      <td>0.141713</td>\n",
       "    </tr>\n",
       "    <tr>\n",
       "      <th>@CNN</th>\n",
       "      <td>-0.024652</td>\n",
       "    </tr>\n",
       "    <tr>\n",
       "      <th>@Foxnews</th>\n",
       "      <td>0.004491</td>\n",
       "    </tr>\n",
       "    <tr>\n",
       "      <th>@NYTimes</th>\n",
       "      <td>-0.006996</td>\n",
       "    </tr>\n",
       "  </tbody>\n",
       "</table>\n",
       "</div>"
      ],
      "text/plain": [
       "              Compound\n",
       "News Channel          \n",
       "@BBC          0.132080\n",
       "@CBS          0.141713\n",
       "@CNN         -0.024652\n",
       "@Foxnews      0.004491\n",
       "@NYTimes     -0.006996"
      ]
     },
     "execution_count": 41,
     "metadata": {},
     "output_type": "execute_result"
    }
   ],
   "source": [
    "news_df.head(20)\n",
    "news_compound_df = news_df[[\"News Channel\",\"Compound\"]]\n",
    "news_compound_df.head(20)\n",
    "news_by_channel_df = news_compound_df.groupby(\"News Channel\").mean()\n",
    "news_by_channel_df \n",
    "\n"
   ]
  },
  {
   "cell_type": "code",
   "execution_count": 47,
   "metadata": {
    "scrolled": true
   },
   "outputs": [
    {
     "data": {
      "image/png": "[encoded data removed]",
      "text/plain": [
       "<Figure size 432x288 with 1 Axes>"
      ]
     },
     "metadata": {},
     "output_type": "display_data"
    }
   ],
   "source": [
    "news_by_channel_df.plot(kind=\"bar\",color='rgbkymc',legend =False,width=1.0)\n",
    "y_values = news_by_channel_df[\"Compound\"]\n",
    "plt.title(f\"Overall media setiment based on twitter({now})\")\n",
    "plt.ylabel(\"Twitter polarity \")\n",
    "inds = np.arange(5)\n",
    "plt.xticks(inds, ('BBC', 'CBS', 'CNN', 'FOX', 'NYT'))\n",
    "plt.yticks(np.arange(y_values.min(),y_values.max(), 0.04))\n",
    "for i, v in enumerate(y_values ):\n",
    "    plt.text(i-.5, v+.05, \"{:+.2f}\".format(v), color='black')\n",
    "plt.savefig(\"./ChannelSetimentImage.png\")    \n",
    "plt.show()\n"
   ]
  },
  {
   "cell_type": "code",
   "execution_count": null,
   "metadata": {
    "collapsed": true
   },
   "outputs": [],
   "source": []
  }
 ],
 "metadata": {
  "kernelspec": {
   "display_name": "Python 3",
   "language": "python",
   "name": "python3"
  },
  "language_info": {
   "codemirror_mode": {
    "name": "ipython",
    "version": 3
   },
   "file_extension": ".py",
   "mimetype": "text/x-python",
   "name": "python",
   "nbconvert_exporter": "python",
   "pygments_lexer": "ipython3",
   "version": "3.6.3"
  },
  "nteract": {
   "version": "0.8.4"
  }
 },
 "nbformat": 4,
 "nbformat_minor": 2
}
